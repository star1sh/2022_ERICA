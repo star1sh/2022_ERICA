{
  "nbformat": 4,
  "nbformat_minor": 0,
  "metadata": {
    "colab": {
      "provenance": []
    },
    "kernelspec": {
      "name": "python3",
      "display_name": "Python 3"
    },
    "language_info": {
      "name": "python"
    }
  },
  "cells": [
    {
      "cell_type": "code",
      "execution_count": 49,
      "metadata": {
        "colab": {
          "base_uri": "https://localhost:8080/"
        },
        "id": "9V6NN4WuNLap",
        "outputId": "abb0165f-4d28-45d0-df82-a6e36418f942"
      },
      "outputs": [
        {
          "output_type": "stream",
          "name": "stdout",
          "text": [
            "로또번호를 출력합니다! :  [7, 40, 14, 8, 43, 17]\n"
          ]
        }
      ],
      "source": [
        "import random\n",
        "\n",
        "x = [] #로또번호를 저장할 빈 리스트 생성\n",
        "count = 0 #리스트 안에 저장된 값의 갯수\n",
        "r = 0   #로또번호를 저장할 변수 생성\n",
        "\n",
        "while count < 6 : #리스트에 존재하는 값이 6개가 될 때까지 반복\n",
        "\n",
        "  r = random.randint(1,45)  #정수 무작위로 선정 후 저장\n",
        "\n",
        "  if r not in x:  #기존 리스트(뽑힌 숫자)와의 중복확인문\n",
        "    x.append(r) #없다면 로또번호 리스트에 값을 추가\n",
        "    count = count + 1 #정수 카운트를 하나 올림\n",
        "\n",
        "  else: #만약 중복된다면 값을 리스트에 추가하지않고 다시 반복문을 돎.\n",
        "    continue\n",
        "    \n",
        "\n",
        "print(\"로또번호를 출력합니다! : \", x )\n"
      ]
    }
  ]
}