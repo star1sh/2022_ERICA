{
  "nbformat": 4,
  "nbformat_minor": 0,
  "metadata": {
    "colab": {
      "provenance": []
    },
    "kernelspec": {
      "name": "python3",
      "display_name": "Python 3"
    },
    "language_info": {
      "name": "python"
    }
  },
  "cells": [
    {
      "cell_type": "code",
      "execution_count": 1,
      "metadata": {
        "id": "2gJw70dm3wlR"
      },
      "outputs": [],
      "source": [
        "import numpy as np"
      ]
    },
    {
      "cell_type": "code",
      "source": [
        "ran_num = np.random.randn(5,4) #정규분포 기반의 무작위수로 5열4행의 행렬 생성 \n",
        "ran_num[(ran_num<=-0.2)|(ran_num>=0.6)] = 100 #-0.2 이하이거나, 0.6이상일경우 100으로 처리.\n",
        "ran_num #결과 행렬 출력"
      ],
      "metadata": {
        "colab": {
          "base_uri": "https://localhost:8080/"
        },
        "id": "LUFMqqaG31y1",
        "outputId": "7767b464-19cd-40fb-f6b5-73b1674db74a"
      },
      "execution_count": 2,
      "outputs": [
        {
          "output_type": "execute_result",
          "data": {
            "text/plain": [
              "array([[1.00000000e+02, 1.00000000e+02, 1.00000000e+02, 1.00000000e+02],\n",
              "       [1.00000000e+02, 1.00000000e+02, 1.00000000e+02, 2.23647161e-01],\n",
              "       [1.20102320e-01, 1.00000000e+02, 1.00000000e+02, 1.00000000e+02],\n",
              "       [1.00000000e+02, 1.00000000e+02, 3.96920000e-02, 2.43942756e-01],\n",
              "       [1.00000000e+02, 7.53011893e-02, 1.00000000e+02, 1.79732106e-01]])"
            ]
          },
          "metadata": {},
          "execution_count": 2
        }
      ]
    },
    {
      "cell_type": "code",
      "source": [
        "nor_num = np.random.randn(5,4)\n",
        "\n",
        "result =([]) #빈 행렬을 하나 생성\n",
        "result = (nor_num[0]+nor_num[2]) #먼저 첫번째행과 세번째 행 더함\n",
        "result = result*nor_num[4] #첫번째 행과 세번째 행을 더한 값에 5번째행을 곱함.\n",
        "result #결과 행렬 출력"
      ],
      "metadata": {
        "colab": {
          "base_uri": "https://localhost:8080/"
        },
        "id": "p540JGFA32SU",
        "outputId": "7814597d-f23f-4c70-829e-06efd7aef7f6"
      },
      "execution_count": 19,
      "outputs": [
        {
          "output_type": "execute_result",
          "data": {
            "text/plain": [
              "array([-1.40787253,  2.40907645,  0.53596422, -0.56067916])"
            ]
          },
          "metadata": {},
          "execution_count": 19
        }
      ]
    }
  ]
}