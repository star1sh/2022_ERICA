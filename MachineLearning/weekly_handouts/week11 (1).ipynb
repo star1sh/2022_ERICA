{
  "nbformat": 4,
  "nbformat_minor": 0,
  "metadata": {
    "colab": {
      "provenance": []
    },
    "kernelspec": {
      "name": "python3",
      "display_name": "Python 3"
    },
    "language_info": {
      "name": "python"
    }
  },
  "cells": [
    {
      "cell_type": "code",
      "execution_count": 6,
      "metadata": {
        "colab": {
          "base_uri": "https://localhost:8080/"
        },
        "id": "dj8_xYNdyMek",
        "outputId": "7ef6ba21-ed4d-4353-e358-feb62c7d280b"
      },
      "outputs": [
        {
          "output_type": "stream",
          "name": "stdout",
          "text": [
            "변경 전:  ['t', 'e', 'a', 'm']\n",
            "변경 후:  ['t', 'i', 'm', 'e']\n"
          ]
        }
      ],
      "source": [
        "A = ['t','e','a','m']\n",
        "print(\"변경 전: \", A)\n",
        "A[1] = 'i'\n",
        "A[2] = 'm'\n",
        "A[3] = 'e'\n",
        "print(\"변경 후: \", A)"
      ]
    },
    {
      "cell_type": "code",
      "source": [
        "A = [11, 43, 61, 82, 23, 45]\n",
        "print(\"len:\",len(A),\", min:\",min(A), \", max:\",max(A))"
      ],
      "metadata": {
        "colab": {
          "base_uri": "https://localhost:8080/"
        },
        "id": "aAaGt_iuzGfb",
        "outputId": "e8f0dae9-0623-4819-cc94-68d8c19aea7b"
      },
      "execution_count": 9,
      "outputs": [
        {
          "output_type": "stream",
          "name": "stdout",
          "text": [
            "len: 6 , min: 11 , max: 82\n"
          ]
        }
      ]
    },
    {
      "cell_type": "code",
      "source": [
        "A = {1,2,5,6}\n",
        "B = {5,6,8,9}\n",
        "print(\"교집합:\", A&B)\n",
        "print(\"합집합:\", A|B)\n",
        "print(\"A-B 차집합:\",A-B,\", B-A 차집합:\",B-A)"
      ],
      "metadata": {
        "colab": {
          "base_uri": "https://localhost:8080/"
        },
        "id": "OYFfqmpX7EON",
        "outputId": "51f718dc-20c9-48bc-dcdf-f2107d28357a"
      },
      "execution_count": 11,
      "outputs": [
        {
          "output_type": "stream",
          "name": "stdout",
          "text": [
            "교집합: {5, 6}\n",
            "합집합: {1, 2, 5, 6, 8, 9}\n",
            "A-B 차집합: {1, 2} , B-A 차집합: {8, 9}\n"
          ]
        }
      ]
    }
  ]
}